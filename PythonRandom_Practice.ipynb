{
 "cells": [
  {
   "cell_type": "code",
   "execution_count": 1,
   "metadata": {},
   "outputs": [
    {
     "name": "stdout",
     "output_type": "stream",
     "text": [
      "Method 1 ---------------------- read string in reverse order and concatenate\n",
      "nohtyP gninrael ma I\n",
      "anec nhoj ma I\n",
      "Method 2 ---------------------- one liner for Method 1\n",
      "nohtyP gninrael ma I\n",
      "anec nhoj ma I\n",
      "Method 3 ---------------------- read string in forward order and concatenate in reverse order\n",
      "nohtyP gninrael ma I\n",
      "anec nhoj ma I\n"
     ]
    }
   ],
   "source": [
    "# 1. Write a function which takes sentence as an input and returns the sentence in reverse order character by character.\n",
    "# Input: \"I am learning Python\" \n",
    "# Output: \"nohtyP gninrael ma I\"\n",
    "\n",
    "#Method 1:\n",
    "print(\"Method 1 ---------------------- read string in reverse order and concatenate\")\n",
    "def reverseString(string):\n",
    "    n = len(string)\n",
    "    result = \"\"\n",
    "    #running a loop over the entire length of string\n",
    "    for i in range(n):\n",
    "        #adding character one by one to the resulting string\n",
    "        result = result + string[n-i-1]\n",
    "    return result\n",
    "    \n",
    "print(reverseString(\"I am learning Python\"))\n",
    "print(reverseString(\"I am john cena\"))\n",
    "\n",
    "#Method 2:\n",
    "#One Line Solution:\n",
    "print(\"Method 2 ---------------------- one liner for Method 1\")\n",
    "def reverseStringOneLiner(string):\n",
    "    n = len(string)\n",
    "    return ''.join([string[n-i-1] for i in range(n)])\n",
    "    #return ''.join([string[len(string)-i-1] for i in range(len(string))])\n",
    "    \n",
    "print(reverseStringOneLiner(\"I am learning Python\"))\n",
    "print(reverseString(\"I am john cena\"))\n",
    "\n",
    "#Method 3:\n",
    "print(\"Method 3 ---------------------- read string in forward order and concatenate in reverse order\")\n",
    "def reserveStringSolution(string):\n",
    "    n = len(string)\n",
    "    result = \"\"\n",
    "    for i in range(n):\n",
    "        result = string[i] + result\n",
    "    return result\n",
    "\n",
    "print(reserveStringSolution(\"I am learning Python\"))\n",
    "print(reverseString(\"I am john cena\"))"
   ]
  },
  {
   "cell_type": "code",
   "execution_count": 2,
   "metadata": {},
   "outputs": [
    {
     "name": "stdout",
     "output_type": "stream",
     "text": [
      "[1, 9, 2, 4, 5, 6]\n",
      "[1, 9, 12, 4, 5, 167]\n"
     ]
    }
   ],
   "source": [
    "# 2. Generate a list of numbers from a comma separated numbers.\n",
    "\n",
    "def numToList1(num):\n",
    "    list = []\n",
    "    for i in range(len(num)):\n",
    "        if num[i] != ',':\n",
    "            list.append(int(num[i]))\n",
    "    return list\n",
    "\n",
    "print(numToList1('1,9,2,4,5,6'))\n",
    "\n",
    "def numToList2(num):\n",
    "    list = []\n",
    "    temp = \"\"\n",
    "    for i in range(len(num)):\n",
    "        if num[i] != ',':\n",
    "            temp = temp + num[i]\n",
    "        else:\n",
    "            list.append(int(temp))\n",
    "            temp = \"\"\n",
    "    list.append(int(temp))\n",
    "    return list\n",
    "\n",
    "print(numToList2('1,9,12,4,5,167'))"
   ]
  },
  {
   "cell_type": "code",
   "execution_count": 6,
   "metadata": {},
   "outputs": [
    {
     "name": "stdout",
     "output_type": "stream",
     "text": [
      "[1, 9, 21, 4, 5, 761]\n"
     ]
    }
   ],
   "source": [
    "# 3. Given a string of comma separated numbers ('1,9,12,4,5,167').\n",
    "# Generate a list with comma separated numbers having the above integers in reverse order.\n",
    "\n",
    "def integersReversed(nums):\n",
    "    list = []\n",
    "    temp = \"\"\n",
    "    for i in range(len(nums)):\n",
    "        if nums[i] != ',':\n",
    "            temp = nums[i] + temp\n",
    "        else:\n",
    "            list.append(int(temp))\n",
    "            temp = \"\"\n",
    "    list.append(int(temp))\n",
    "    return list\n",
    "\n",
    "print(integersReversed('1,9,12,4,5,167'))"
   ]
  },
  {
   "cell_type": "code",
   "execution_count": 7,
   "metadata": {},
   "outputs": [],
   "source": [
    "# 4. Reverse an integer \n",
    "# For example 123 will become 321\n",
    "# 1998965 will become 5698991\n",
    "\n"
   ]
  },
  {
   "cell_type": "code",
   "execution_count": 8,
   "metadata": {},
   "outputs": [],
   "source": [
    "\n",
    "\n"
   ]
  },
  {
   "cell_type": "code",
   "execution_count": null,
   "metadata": {},
   "outputs": [],
   "source": []
  }
 ],
 "metadata": {
  "kernelspec": {
   "display_name": "Python 3",
   "language": "python",
   "name": "python3"
  },
  "language_info": {
   "codemirror_mode": {
    "name": "ipython",
    "version": 3
   },
   "file_extension": ".py",
   "mimetype": "text/x-python",
   "name": "python",
   "nbconvert_exporter": "python",
   "pygments_lexer": "ipython3",
   "version": "3.7.4"
  }
 },
 "nbformat": 4,
 "nbformat_minor": 2
}
