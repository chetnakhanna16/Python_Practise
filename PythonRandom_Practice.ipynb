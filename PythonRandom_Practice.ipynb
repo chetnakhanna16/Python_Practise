{
 "cells": [
  {
   "cell_type": "code",
   "execution_count": 1,
   "metadata": {},
   "outputs": [
    {
     "name": "stdout",
     "output_type": "stream",
     "text": [
      "Method 1 ---------------------- read string in reverse order and concatenate\n",
      "nohtyP gninrael ma I\n",
      "anec nhoj ma I\n",
      "Method 2 ---------------------- one liner for Method 1\n",
      "nohtyP gninrael ma I\n",
      "anec nhoj ma I\n",
      "Method 3 ---------------------- read string in forward order and concatenate in reverse order\n",
      "nohtyP gninrael ma I\n",
      "anec nhoj ma I\n"
     ]
    }
   ],
   "source": [
    "# 1. Write a function which takes sentence as an input and returns the sentence in reverse order character by character.\n",
    "# Input: \"I am learning Python\" \n",
    "# Output: \"nohtyP gninrael ma I\"\n",
    "\n",
    "#Method 1:\n",
    "print(\"Method 1 ---------------------- read string in reverse order and concatenate\")\n",
    "def reverseString(string):\n",
    "    n = len(string)\n",
    "    result = \"\"\n",
    "    #running a loop over the entire length of string\n",
    "    for i in range(n):\n",
    "        #adding character one by one to the resulting string\n",
    "        result = result + string[n-i-1]\n",
    "    return result\n",
    "    \n",
    "print(reverseString(\"I am learning Python\"))\n",
    "print(reverseString(\"I am john cena\"))\n",
    "\n",
    "#Method 2:\n",
    "#One Line Solution:\n",
    "print(\"Method 2 ---------------------- one liner for Method 1\")\n",
    "def reverseStringOneLiner(string):\n",
    "    n = len(string)\n",
    "    return ''.join([string[n-i-1] for i in range(n)])\n",
    "    #return ''.join([string[len(string)-i-1] for i in range(len(string))])\n",
    "    \n",
    "print(reverseStringOneLiner(\"I am learning Python\"))\n",
    "print(reverseString(\"I am john cena\"))\n",
    "\n",
    "#Method 3:\n",
    "print(\"Method 3 ---------------------- read string in forward order and concatenate in reverse order\")\n",
    "def reserveStringSolution(string):\n",
    "    n = len(string)\n",
    "    result = \"\"\n",
    "    for i in range(n):\n",
    "        result = string[i] + result\n",
    "    return result\n",
    "\n",
    "print(reserveStringSolution(\"I am learning Python\"))\n",
    "print(reverseString(\"I am john cena\"))"
   ]
  },
  {
   "cell_type": "code",
   "execution_count": 2,
   "metadata": {},
   "outputs": [
    {
     "name": "stdout",
     "output_type": "stream",
     "text": [
      "[1, 9, 2, 4, 5, 6]\n",
      "[1, 9, 12, 4, 5, 167]\n"
     ]
    }
   ],
   "source": [
    "# 2. Generate a list of numbers from a comma separated numbers.\n",
    "\n",
    "def numToList1(num):\n",
    "    list = []\n",
    "    for i in range(len(num)):\n",
    "        if num[i] != ',':\n",
    "            list.append(int(num[i]))\n",
    "    return list\n",
    "\n",
    "print(numToList1('1,9,2,4,5,6'))\n",
    "\n",
    "def numToList2(num):\n",
    "    list = []\n",
    "    temp = \"\"\n",
    "    for i in range(len(num)):\n",
    "        if num[i] != ',':\n",
    "            temp = temp + num[i]\n",
    "        else:\n",
    "            list.append(int(temp))\n",
    "            temp = \"\"\n",
    "    list.append(int(temp))\n",
    "    return list\n",
    "\n",
    "print(numToList2('1,9,12,4,5,167'))"
   ]
  },
  {
   "cell_type": "code",
   "execution_count": 3,
   "metadata": {},
   "outputs": [
    {
     "name": "stdout",
     "output_type": "stream",
     "text": [
      "[1, 9, 21, 4, 5, 761]\n"
     ]
    }
   ],
   "source": [
    "# 3. Given a string of comma separated numbers ('1,9,12,4,5,167').\n",
    "# Generate a list with comma separated numbers having the above integers in reverse order.\n",
    "\n",
    "def integersReversed(nums):\n",
    "    list = []\n",
    "    temp = \"\"\n",
    "    for i in range(len(nums)):\n",
    "        if nums[i] != ',':\n",
    "            temp = nums[i] + temp\n",
    "        else:\n",
    "            list.append(int(temp))\n",
    "            temp = \"\"\n",
    "    list.append(int(temp))\n",
    "    return list\n",
    "\n",
    "print(integersReversed('1,9,12,4,5,167'))"
   ]
  },
  {
   "cell_type": "code",
   "execution_count": 80,
   "metadata": {},
   "outputs": [
    {
     "data": {
      "text/plain": [
       "321"
      ]
     },
     "execution_count": 80,
     "metadata": {},
     "output_type": "execute_result"
    }
   ],
   "source": [
    "# 4. Reverse an integer \n",
    "# For example 123 will become 321\n",
    "# 1998965 will become 5698991\n",
    "\n",
    "def reverseInt(num):\n",
    "    result = 0\n",
    "    while num > 0:\n",
    "        temp = num % 10\n",
    "        result = result * 10 + temp\n",
    "        num = num // 10\n",
    "    return result\n",
    "\n",
    "reverseInt(123)"
   ]
  },
  {
   "cell_type": "code",
   "execution_count": 6,
   "metadata": {},
   "outputs": [
    {
     "name": "stdout",
     "output_type": "stream",
     "text": [
      "0\n",
      "2\n",
      "0\n",
      "5\n"
     ]
    }
   ],
   "source": [
    "# 5. Write a function that takes a list and an integer n and returns its frequency in the list.\n",
    "\n",
    "def countFreq(nums, n):\n",
    "    count = 0\n",
    "    for i in range(len(nums)):\n",
    "        if nums[i] == n:\n",
    "            count = count + 1\n",
    "    return count\n",
    "\n",
    "print(countFreq([], 1))\n",
    "print(countFreq([1,2,3,4,6,1,2,3,11,5,6], 1))\n",
    "print(countFreq([4,6,8,9], 1))\n",
    "print(countFreq([1,1,1,1,1], 1))"
   ]
  },
  {
   "cell_type": "code",
   "execution_count": 9,
   "metadata": {},
   "outputs": [
    {
     "name": "stdout",
     "output_type": "stream",
     "text": [
      "False\n",
      "True\n"
     ]
    }
   ],
   "source": [
    "# 6. Write a Python program to test whether a passed letter is a vowel or not.\n",
    "\n",
    "def isVowel(alphabet):\n",
    "    vowels = ['a','e','i','o','u']\n",
    "    if alphabet in vowels:\n",
    "        return True\n",
    "    return False\n",
    "\n",
    "print(isVowel('g'))\n",
    "print(isVowel('o'))"
   ]
  },
  {
   "cell_type": "code",
   "execution_count": 15,
   "metadata": {},
   "outputs": [
    {
     "name": "stdout",
     "output_type": "stream",
     "text": [
      "AnkurAnkurAnkur\n",
      "Ankur.comAnkur.comAnkur.comAnkur.comAnkur.com\n",
      "Ankur ChetnaAnkur Chetna\n"
     ]
    }
   ],
   "source": [
    "# 7. Write a Python program to get a string which is n (non-negative integer) copies of a given string.\n",
    "\n",
    "def copiesString(string, n):\n",
    "    result = \"\"\n",
    "    for i in range(n):\n",
    "        result = string + result\n",
    "    return result\n",
    "\n",
    "print(copiesString(\"Ankur\", 3))\n",
    "print(copiesString(\"Ankur.com\", 5))\n",
    "print(copiesString(\"Ankur Chetna\", 2))"
   ]
  },
  {
   "cell_type": "code",
   "execution_count": 19,
   "metadata": {},
   "outputs": [
    {
     "name": "stdout",
     "output_type": "stream",
     "text": [
      "Ankur Ankur Ankur\n",
      "Ankur.com Ankur.com Ankur.com Ankur.com Ankur.com\n",
      "Ankur Chetna Ankur Chetna\n"
     ]
    }
   ],
   "source": [
    "# 8. Write a Python program to get a string which is n (non-negative integer) copies of a given string but with a \n",
    "# space in between.\n",
    "\n",
    "def copiesStringWithSpace(string, n):\n",
    "    result = \"\"\n",
    "    for i in range(n):\n",
    "        result = string + \" \" + result\n",
    "    return result[:-1]\n",
    "\n",
    "print(copiesStringWithSpace(\"Ankur\", 3))\n",
    "print(copiesStringWithSpace(\"Ankur.com\", 5))\n",
    "print(copiesStringWithSpace(\"Ankur Chetna\", 2))"
   ]
  },
  {
   "cell_type": "code",
   "execution_count": 22,
   "metadata": {},
   "outputs": [
    {
     "name": "stdout",
     "output_type": "stream",
     "text": [
      "8\n",
      "9\n"
     ]
    }
   ],
   "source": [
    "# 9. Write a Python program to calculate the sum of three given numbers, if the values are equal then return three \n",
    "# times of their sum. \n",
    "\n",
    "def sumThreeNums(n1,n2,n3):\n",
    "    if n1 == n2 & n1 == n3:\n",
    "        return 3 * n1\n",
    "    else:\n",
    "        return n1 + n2 + n3\n",
    "    \n",
    "print(sumThreeNums(1,3,4))\n",
    "print(sumThreeNums(3,3,3))"
   ]
  },
  {
   "cell_type": "code",
   "execution_count": 25,
   "metadata": {},
   "outputs": [
    {
     "name": "stdout",
     "output_type": "stream",
     "text": [
      "[2, 3, 4, 5, 6, 7, 8, 9]\n",
      "[3, 6, 9]\n",
      "[2, 4, 6, 8]\n"
     ]
    }
   ],
   "source": [
    "# 10. Write a program which will take three integers and print all numbers between the first and second which are \n",
    "# divisible by third.\n",
    "\n",
    "def myfunc1(n1,n2):\n",
    "    mylist = []\n",
    "    for i in range(n1,n2+1):\n",
    "        mylist.append(i)\n",
    "    return mylist\n",
    "\n",
    "print(myfunc1(2,9))\n",
    "\n",
    "def myfunc2(n1,n2,n3):\n",
    "    mylist = []\n",
    "    for i in range(n1,n2+1):\n",
    "        if i % n3 == 0:\n",
    "            mylist.append(i)\n",
    "    return mylist\n",
    "\n",
    "print(myfunc2(2,9,3))\n",
    "print(myfunc2(2,9,2))"
   ]
  },
  {
   "cell_type": "code",
   "execution_count": 26,
   "metadata": {},
   "outputs": [
    {
     "name": "stdout",
     "output_type": "stream",
     "text": [
      "Is it good?\n",
      "IsPro?\n",
      "IsISLUCK\n",
      "IsAmazing\n"
     ]
    }
   ],
   "source": [
    "# 11. Write a Python program to get a new string from a given string where \"Is\" has been added to the front. \n",
    "# If the given string already begins with \"Is\" then return the string unchanged.\n",
    "\n",
    "def checkString(string):\n",
    "    if string[0:2] == \"Is\":\n",
    "        return string\n",
    "    else:\n",
    "        return \"Is\" + string \n",
    "    \n",
    "print(checkString(\"Is it good?\"))\n",
    "print(checkString(\"IsPro?\"))\n",
    "print(checkString(\"ISLUCK\"))\n",
    "print(checkString(\"Amazing\"))"
   ]
  },
  {
   "cell_type": "code",
   "execution_count": 31,
   "metadata": {},
   "outputs": [
    {
     "name": "stdout",
     "output_type": "stream",
     "text": [
      "[386, 462, 418, 344, 236, 566, 978, 328, 162, 758, 918]\n"
     ]
    }
   ],
   "source": [
    "# 12. Write a Python program to print all even numbers from a given numbers list in the same order and stop the \n",
    "# printing if any numbers that come after 237 in the sequence.\n",
    "\n",
    "def evenNum(nums):\n",
    "    mylist = []\n",
    "    for i in range(len(nums)):\n",
    "        if nums[i] == 237:\n",
    "            return mylist\n",
    "        elif nums[i] % 2 == 0:\n",
    "            mylist.append(nums[i])\n",
    "    return mylist\n",
    "\n",
    "print(evenNum([386, 462, 47, 418, 907, 344, 236, 375, 823, 566, 597, 978, 328, 615, 953, 345, 399, 162, 758, 219, 918, 237, 412, 566, 826, 248, 866, 950, 626, 949, 687, 217, 815, 67, 104, 58, 512, 24, 892, 894, 767, 553, 81, 379, 843, 831, 445, 742, 717, 958, 743, 527]))"
   ]
  },
  {
   "cell_type": "code",
   "execution_count": 32,
   "metadata": {},
   "outputs": [
    {
     "name": "stdout",
     "output_type": "stream",
     "text": [
      "12\n",
      "20\n"
     ]
    }
   ],
   "source": [
    "# 13. Write a Python program to sum of two given integers. However, if the sum is between 15 to 20 it will return 20. \n",
    "\n",
    "def myfunc(n1,n2):\n",
    "    if n1+n2 > 15 & n1+n2 < 20:\n",
    "        return 20\n",
    "    else:\n",
    "        return n1+n2\n",
    "\n",
    "print(myfunc(3,9))\n",
    "print(myfunc(13,4))"
   ]
  },
  {
   "cell_type": "code",
   "execution_count": 34,
   "metadata": {},
   "outputs": [
    {
     "name": "stdout",
     "output_type": "stream",
     "text": [
      "False\n",
      "False\n",
      "True\n",
      "True\n"
     ]
    }
   ],
   "source": [
    "# 14. Write a Python program that will return true if the two given integer values are equal or their sum or \n",
    "# difference is 5.\n",
    "\n",
    "def myfunc(n1,n2):\n",
    "    if (n1 == n2) or abs(n1 - n2) == 5 or (n1 + n2) == 5 :\n",
    "        return True\n",
    "    return False\n",
    "\n",
    "print(myfunc(3,9))\n",
    "print(myfunc(13,4))\n",
    "print(myfunc(3,2))\n",
    "print(myfunc(12,7))"
   ]
  },
  {
   "cell_type": "code",
   "execution_count": 44,
   "metadata": {},
   "outputs": [
    {
     "name": "stdout",
     "output_type": "stream",
     "text": [
      "3\n",
      "0\n"
     ]
    }
   ],
   "source": [
    "# 15. Write a Python program to count the number occurrence of a specific character in a string.\n",
    "\n",
    "def countChar(string, char):\n",
    "    count = 0\n",
    "    for item in string:\n",
    "        if item == char:\n",
    "            count = count + 1\n",
    "    return count\n",
    "\n",
    "print(countChar(\"My name is Hanna Olyses.\", \"a\"))\n",
    "print(countChar(\"I play cricket.\", \"o\"))"
   ]
  },
  {
   "cell_type": "code",
   "execution_count": 43,
   "metadata": {},
   "outputs": [
    {
     "name": "stdout",
     "output_type": "stream",
     "text": [
      "False\n",
      "True\n"
     ]
    }
   ],
   "source": [
    "# 16. Write a Python program to test whether all numbers of a list is greater than a certain number. \n",
    "\n",
    "def myfun(mylist,num):\n",
    "    for item in mylist:\n",
    "        if item < num:\n",
    "            return False\n",
    "    return True\n",
    "\n",
    "print(myfun([2,5,6,8,9], 5))\n",
    "print(myfun([2,5,6,8,9], 1))"
   ]
  },
  {
   "cell_type": "code",
   "execution_count": 48,
   "metadata": {},
   "outputs": [
    {
     "name": "stdout",
     "output_type": "stream",
     "text": [
      "gmail.com\n",
      "Not an email\n"
     ]
    }
   ],
   "source": [
    "# 17. Write a function which will take email address as the input and return the domain name.\n",
    "\n",
    "def domainFromEmail(email):\n",
    "    for i in range(len(email)):\n",
    "        if email[i] == \"@\":\n",
    "            return email[i+1:]\n",
    "    return \"Not an email\"\n",
    "\n",
    "print(domainFromEmail(\"abc@gmail.com\"))\n",
    "print(domainFromEmail(\"abchotmail.com\"))"
   ]
  },
  {
   "cell_type": "code",
   "execution_count": 52,
   "metadata": {},
   "outputs": [
    {
     "name": "stdout",
     "output_type": "stream",
     "text": [
      "com\n",
      "com\n",
      "in\n"
     ]
    }
   ],
   "source": [
    "# 18. Write a function which will take email address as the input and return the domain extension.\n",
    "\n",
    "def domainExtFromEmail(email):\n",
    "    for i in range(len(email)):\n",
    "        if email[len(email)-i-1] == \".\":\n",
    "            return email[len(email)-i:]\n",
    "\n",
    "print(domainExtFromEmail(\"abc@gmail.com\"))\n",
    "print(domainExtFromEmail(\"abchotmail.com\"))\n",
    "print(domainExtFromEmail(\"abc@yahoo.in\"))"
   ]
  },
  {
   "cell_type": "code",
   "execution_count": 69,
   "metadata": {},
   "outputs": [
    {
     "name": "stdout",
     "output_type": "stream",
     "text": [
      "False\n",
      "True\n",
      "False\n",
      "True\n",
      "False\n",
      "True\n"
     ]
    }
   ],
   "source": [
    "# 19. Write a Python function that takes a sequence of numbers and determines whether all the numbers are \n",
    "# different from each other. \n",
    "\n",
    "#Method 1:\n",
    "def myfun1(mylist):\n",
    "    for i in range(0,len(mylist)):\n",
    "        for j in range(i+1,len(mylist)):\n",
    "            if mylist[i] == mylist[j]:\n",
    "                return False\n",
    "    return True\n",
    "\n",
    "print(myfun1([1,5,6,9,1]))\n",
    "print(myfun1([1,5,6,9,7,0,3,2]))\n",
    "\n",
    "#Method 2:\n",
    "def myfun2(mylist):\n",
    "    myset = set()\n",
    "    for i in range(len(mylist)):\n",
    "        if mylist[i] not in myset:\n",
    "            myset.add(mylist[i])\n",
    "        else:\n",
    "            return False\n",
    "    return True\n",
    "\n",
    "print(myfun2([1,5,6,9,1]))\n",
    "print(myfun2([1,5,6,9,7,0,3,2]))\n",
    "\n",
    "#Method 3:\n",
    "def myfun3(mylist):\n",
    "    mylist.sort()\n",
    "    for i in range(len(mylist)-1):\n",
    "        if mylist[i] == mylist[i+1]:\n",
    "            return False\n",
    "    return True\n",
    "\n",
    "print(myfun3([1,5,6,9,1]))\n",
    "print(myfun3([1,5,6,9,7,0,3,2]))"
   ]
  },
  {
   "cell_type": "code",
   "execution_count": 41,
   "metadata": {},
   "outputs": [
    {
     "name": "stdout",
     "output_type": "stream",
     "text": [
      "['aeiou', 'aeiuo', 'aeoiu', 'aeoui', 'aeuio', 'aeuoi', 'aieou', 'aieuo', 'aioeu', 'aioue', 'aiueo', 'aiuoe', 'aoeiu', 'aoeui', 'aoieu', 'aoiue', 'aouei', 'aouie', 'aueio', 'aueoi', 'auieo', 'auioe', 'auoei', 'auoie', 'eaiou', 'eaiuo', 'eaoiu', 'eaoui', 'eauio', 'eauoi', 'eiaou', 'eiauo', 'eioau', 'eioua', 'eiuao', 'eiuoa', 'eoaiu', 'eoaui', 'eoiau', 'eoiua', 'eouai', 'eouia', 'euaio', 'euaoi', 'euiao', 'euioa', 'euoai', 'euoia', 'iaeou', 'iaeuo', 'iaoeu', 'iaoue', 'iaueo', 'iauoe', 'ieaou', 'ieauo', 'ieoau', 'ieoua', 'ieuao', 'ieuoa', 'ioaeu', 'ioaue', 'ioeau', 'ioeua', 'iouae', 'iouea', 'iuaeo', 'iuaoe', 'iueao', 'iueoa', 'iuoae', 'iuoea', 'oaeiu', 'oaeui', 'oaieu', 'oaiue', 'oauei', 'oauie', 'oeaiu', 'oeaui', 'oeiau', 'oeiua', 'oeuai', 'oeuia', 'oiaeu', 'oiaue', 'oieau', 'oieua', 'oiuae', 'oiuea', 'ouaei', 'ouaie', 'oueai', 'oueia', 'ouiae', 'ouiea', 'uaeio', 'uaeoi', 'uaieo', 'uaioe', 'uaoei', 'uaoie', 'ueaio', 'ueaoi', 'ueiao', 'ueioa', 'ueoai', 'ueoia', 'uiaeo', 'uiaoe', 'uieao', 'uieoa', 'uioae', 'uioea', 'uoaei', 'uoaie', 'uoeai', 'uoeia', 'uoiae', 'uoiea']\n"
     ]
    }
   ],
   "source": [
    "# 20. Write a Python program to create all possible strings by using 'a', 'e', 'i', 'o', 'u'. Use the characters \n",
    "# exactly once.\n",
    "\n",
    "result = []\n",
    "def permute(nums, temp):\n",
    "    if len(nums) == len(temp):\n",
    "        tempStr = \"\"\n",
    "        for i in temp:\n",
    "            tempStr = tempStr + nums[i]\n",
    "        result.append(tempStr)\n",
    "    else:\n",
    "        for i in range(len(nums)):\n",
    "            if i not in temp:\n",
    "                tempList = temp.copy()\n",
    "                tempList.append(i)\n",
    "                permute(nums, tempList)\n",
    "\n",
    "permute(['a','e','i','o','u'],[])\n",
    "# permute(['1','2','3'], [])\n",
    "print(result)"
   ]
  },
  {
   "cell_type": "code",
   "execution_count": 81,
   "metadata": {},
   "outputs": [
    {
     "name": "stdout",
     "output_type": "stream",
     "text": [
      "30\n",
      "60\n",
      "90\n",
      "40\n",
      "80\n",
      "50\n",
      "20\n",
      "70\n",
      "10\n"
     ]
    }
   ],
   "source": [
    "# 21. Write a Python program to remove and print every third number from a list of numbers until the list becomes empty.\n",
    "\n",
    "def printRemoveThirdNum(nums):\n",
    "    index = 0\n",
    "    counter = 1\n",
    "    while len(nums) > 0:\n",
    "        if counter % 3 == 0:\n",
    "            print(nums.pop(index))\n",
    "            counter = 1\n",
    "            if index >= len(nums):\n",
    "                index = 0\n",
    "        else:\n",
    "            index += 1\n",
    "            counter += 1\n",
    "            if index >= len(nums):\n",
    "                index = 0\n",
    "                \n",
    "printRemoveThirdNum([10,20,30,40,50,60,70,80,90])"
   ]
  },
  {
   "cell_type": "code",
   "execution_count": 30,
   "metadata": {},
   "outputs": [
    {
     "name": "stdout",
     "output_type": "stream",
     "text": [
      "3205\n",
      "297\n",
      "10008\n"
     ]
    }
   ],
   "source": [
    "# 22. Write a Python program to add two positive integers without using the '+' operator.\n",
    "\n",
    "def addNums(n1,n2):\n",
    "    carryover = 0\n",
    "    result = 0\n",
    "    counter = 0\n",
    "    while n1 != 0 or n2 != 0:\n",
    "        x = n1 % 10\n",
    "        y = n2 % 10\n",
    "        mysum = x + y + carryover\n",
    "        carryover = mysum // 10\n",
    "        mysum = mysum % 10\n",
    "        result = mysum * pow(10,counter) + result\n",
    "        n1 = n1 // 10\n",
    "        n2 = n2 // 10\n",
    "        counter += 1\n",
    "    result = carryover * pow(10,counter) + result\n",
    "    return result\n",
    "\n",
    "print(addNums(1910,1295))\n",
    "print(addNums(293,4))\n",
    "print(addNums(9,9999))"
   ]
  },
  {
   "cell_type": "code",
   "execution_count": 40,
   "metadata": {},
   "outputs": [
    {
     "name": "stdout",
     "output_type": "stream",
     "text": [
      "True\n",
      "True\n",
      "False\n",
      "False\n"
     ]
    }
   ],
   "source": [
    "# 23. Write a function which will take string as an input and will check whether it is palindrome or not.\n",
    "\n",
    "def isPalindrome(string):\n",
    "    i = 0\n",
    "    j = 0\n",
    "    n = len(string)\n",
    "    while i <= n-i-1:\n",
    "        if string[i] != string[n-i-1]:\n",
    "            return False\n",
    "        i += 1\n",
    "    return True\n",
    "    \n",
    "print(isPalindrome('madam'))\n",
    "print(isPalindrome('123454321'))\n",
    "print(isPalindrome('nesting'))\n",
    "print(isPalindrome('1245321'))"
   ]
  },
  {
   "cell_type": "code",
   "execution_count": null,
   "metadata": {},
   "outputs": [],
   "source": [
    "# 24. "
   ]
  },
  {
   "cell_type": "code",
   "execution_count": null,
   "metadata": {},
   "outputs": [],
   "source": [
    "\n",
    "\n"
   ]
  },
  {
   "cell_type": "code",
   "execution_count": null,
   "metadata": {},
   "outputs": [],
   "source": []
  },
  {
   "cell_type": "code",
   "execution_count": null,
   "metadata": {},
   "outputs": [],
   "source": []
  }
 ],
 "metadata": {
  "kernelspec": {
   "display_name": "Python 3",
   "language": "python",
   "name": "python3"
  },
  "language_info": {
   "codemirror_mode": {
    "name": "ipython",
    "version": 3
   },
   "file_extension": ".py",
   "mimetype": "text/x-python",
   "name": "python",
   "nbconvert_exporter": "python",
   "pygments_lexer": "ipython3",
   "version": "3.7.4"
  }
 },
 "nbformat": 4,
 "nbformat_minor": 2
}
