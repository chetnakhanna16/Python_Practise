{
 "cells": [
  {
   "cell_type": "code",
   "execution_count": 1,
   "metadata": {},
   "outputs": [
    {
     "name": "stdout",
     "output_type": "stream",
     "text": [
      "{'c': 1, 'h': 1, 'a': 1, 'l': 2, 'e': 2, 'n': 1, 'g': 1}\n",
      "{'p': 1, 'r': 2, 'o': 1, 'g': 2, 'a': 1, 'm': 2, 'i': 1, 'n': 1}\n"
     ]
    }
   ],
   "source": [
    "# 1. Write a Python program to create a dictionary from a string.\n",
    "\n",
    "def getDictFromString(myString):\n",
    "    myDict = {}\n",
    "    \n",
    "    if len(myString) == 0:\n",
    "        return -1\n",
    "    \n",
    "    for alphabet in myString:\n",
    "        if alphabet not in myDict:\n",
    "            myDict[alphabet] = 1\n",
    "        else:\n",
    "            myDict[alphabet] += 1\n",
    "    return myDict\n",
    "    \n",
    "print(getDictFromString(\"challenge\"))\n",
    "print(getDictFromString(\"programming\"))"
   ]
  },
  {
   "cell_type": "code",
   "execution_count": 3,
   "metadata": {},
   "outputs": [
    {
     "name": "stdout",
     "output_type": "stream",
     "text": [
      "{'geeks': 2, 'for': 2, 'is': 1, 'a': 1, 'good': 1, 'resource': 1, 'programming': 1}\n",
      "{'i': 3, 'somehow': 1, 'feel': 1, 'that': 1, 'am': 1, 'a': 1, 'very': 1, 'confused': 1, 'person': 1, 'and': 1, 'make': 1, 'things': 1, 'complicated': 1}\n",
      "-1\n"
     ]
    }
   ],
   "source": [
    "# 2. Write a Python program to count the occurrences of each word in a given sentence.\n",
    "\n",
    "def getOccurenceOfWordInSentence(mySentence):\n",
    "    \n",
    "    mySentence = mySentence.lower()\n",
    "    myDict = {}\n",
    "    i = 0\n",
    "    j = 1\n",
    "    word = \"\"\n",
    "    \n",
    "    if len(mySentence) == 0:\n",
    "        return -1\n",
    "    \n",
    "    while j < len(mySentence):\n",
    "        while mySentence[j] != \" \":\n",
    "            j += 1\n",
    "            if(j == len(mySentence)):\n",
    "                break\n",
    "        \n",
    "        word = mySentence[i:j]\n",
    "        \n",
    "        if word not in myDict:\n",
    "            myDict[word] = 1\n",
    "        else:\n",
    "            myDict[word] += 1\n",
    "        \n",
    "        i = j + 1\n",
    "        j = i + 1\n",
    "\n",
    "    return myDict\n",
    "    \n",
    "print(getOccurenceOfWordInSentence(\"Geeks for geeks is a good resource for programming\"))\n",
    "print(getOccurenceOfWordInSentence(\"I somehow feel that I am a very confused person and I make things complicated\"))\n",
    "print(getOccurenceOfWordInSentence(\"\"))"
   ]
  },
  {
   "cell_type": "code",
   "execution_count": null,
   "metadata": {},
   "outputs": [],
   "source": []
  }
 ],
 "metadata": {
  "kernelspec": {
   "display_name": "Python 3",
   "language": "python",
   "name": "python3"
  },
  "language_info": {
   "codemirror_mode": {
    "name": "ipython",
    "version": 3
   },
   "file_extension": ".py",
   "mimetype": "text/x-python",
   "name": "python",
   "nbconvert_exporter": "python",
   "pygments_lexer": "ipython3",
   "version": "3.7.4"
  }
 },
 "nbformat": 4,
 "nbformat_minor": 2
}
